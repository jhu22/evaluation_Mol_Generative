{
 "cells": [
  {
   "cell_type": "code",
   "execution_count": 1,
   "id": "6bbb3912",
   "metadata": {},
   "outputs": [],
   "source": [
    "import os\n",
    "import json\n",
    "import pandas as pd"
   ]
  },
  {
   "cell_type": "code",
   "execution_count": 2,
   "id": "a635bffc",
   "metadata": {},
   "outputs": [],
   "source": [
    "os.environ[\"KMP_DUPLICATE_LIB_OK\"]=\"TRUE\""
   ]
  },
  {
   "cell_type": "code",
   "execution_count": 3,
   "id": "f86bcf18",
   "metadata": {},
   "outputs": [],
   "source": [
    "Tau = \"MAEPRQEFEVMEDHAGTYGLGDRKDQGGYTMHQDQEGDTDAGLKESPLQTPTEDGSEEPGSETSDAKSTPTAEDVTAPLVDEGAPGKQAAAQPHTEIPEGTTAEEAGIGDTPSLEDEAAGHVTQEPESGKVVQEGFLREPGPPGLSHQLMSGMPGAPLLPEGPREATRQPSGTGPEDTEGGRHAPELLKHQLLGDLHQEGPPLKGAGGKERPGSKEEVDEDRDVDESSPQDSPPSKASPAQDGRPPQTAAREATSIPGFPAEGAIPLPVDFLSKVSTEIPASEPDGPSVGRAKGQDAPLEFTFHVEITPNVQKEQAHSEEHLGRAAFPGAPGEGPEARGPSLGEDTKEADLPEPSEKQPAAAPRGKPVSRVPQLKARMVSKSKDGTGSDDKKAKTSTRSSAKTLKNRPCLSPKHPTPGSSDPLIQPSSPAVCPEPPSSPKYVSSVTSRTGSSGAKEMKLKGADGKTKIATPRGAAPPGQKGQANATRIPAKTPPAPKTPPSSGEPPKSGDRSGYSSPGSPGTPGSRSRTPSLPTPPTREPKKVAVVRTPPKSPSSAKSRLQTAPVPMPDLKNVKSKIGSTENLKHQPGGGKVQIINKKLDLSNVQSKCGSKDNIKHVPGGGSVQIVYKPVDLSKVTSKCGSLGNIHHKPGGGQVEVKSEKLDFKDRVQSKIGSLDNITHVPGGGNKKIETHKLTFRENAKAKTDHGAEIVYKSPVVSGDTSPRHLSNVSSTGSIDMVDSPQLATLADEVSASLAKQGL\""
   ]
  },
  {
   "cell_type": "code",
   "execution_count": 4,
   "id": "3468d552",
   "metadata": {},
   "outputs": [],
   "source": [
    "import torch"
   ]
  },
  {
   "cell_type": "code",
   "execution_count": 5,
   "id": "13711e90",
   "metadata": {},
   "outputs": [],
   "source": [
    "from utils.DTA import model"
   ]
  },
  {
   "cell_type": "code",
   "execution_count": 6,
   "id": "9e2d977a",
   "metadata": {},
   "outputs": [],
   "source": [
    "model_ = model.modelDTA"
   ]
  },
  {
   "cell_type": "code",
   "execution_count": 7,
   "id": "0fa85219",
   "metadata": {},
   "outputs": [
    {
     "data": {
      "text/plain": [
       "<All keys matched successfully>"
      ]
     },
     "execution_count": 7,
     "metadata": {},
     "output_type": "execute_result"
    }
   ],
   "source": [
    "model_.load_state_dict(torch.load('cnn_dta.pth'))"
   ]
  },
  {
   "cell_type": "code",
   "execution_count": 8,
   "id": "3a0028fc",
   "metadata": {},
   "outputs": [],
   "source": [
    "dataset_ML = pd.read_csv(\"/Users/junjiehu/Desktop/Tau-SAAE.csv\")"
   ]
  },
  {
   "cell_type": "code",
   "execution_count": 9,
   "id": "103d6fc9",
   "metadata": {},
   "outputs": [],
   "source": [
    "data_test = dataset_ML.iloc[1,]"
   ]
  },
  {
   "cell_type": "code",
   "execution_count": 10,
   "id": "b2b7d5c3",
   "metadata": {},
   "outputs": [
    {
     "data": {
      "text/plain": [
       "smiles                      COCC(=O)c1cccc(=O)n1CCSc1ccccc1Cl\n",
       "sequence    MAEPRQEFEVMEDHAGTYGLGDRKDQGGYTMHQDQEGDTDAGLKES...\n",
       "Name: 1, dtype: object"
      ]
     },
     "execution_count": 10,
     "metadata": {},
     "output_type": "execute_result"
    }
   ],
   "source": [
    "data_test"
   ]
  },
  {
   "cell_type": "code",
   "execution_count": 11,
   "id": "3fc44c26",
   "metadata": {},
   "outputs": [
    {
     "name": "stderr",
     "output_type": "stream",
     "text": [
      "[W NNPACK.cpp:53] Could not initialize NNPACK! Reason: Unsupported hardware.\n",
      "/Users/junjiehu/opt/anaconda3/envs/ML/lib/python3.8/site-packages/torch/nn/modules/conv.py:309: UserWarning: Using padding='same' with even kernel lengths and odd dilation may require a zero-padded copy of the input be created (Triggered internally at /Users/runner/work/pytorch/pytorch/pytorch/aten/src/ATen/native/Convolution.cpp:896.)\n",
      "  return F.conv1d(input, weight, bias, self.stride,\n"
     ]
    }
   ],
   "source": [
    "pre_test = model_(data_test)"
   ]
  },
  {
   "cell_type": "code",
   "execution_count": 12,
   "id": "cff7484a",
   "metadata": {},
   "outputs": [
    {
     "data": {
      "text/plain": [
       "array([5.8821516], dtype=float32)"
      ]
     },
     "execution_count": 12,
     "metadata": {},
     "output_type": "execute_result"
    }
   ],
   "source": [
    "pre_test.data.numpy()"
   ]
  },
  {
   "cell_type": "code",
   "execution_count": null,
   "id": "d855bb1f",
   "metadata": {},
   "outputs": [],
   "source": [
    "def make_fig_1(input_data):\n",
    "    bins = 10\n",
    "    data = input_data\n",
    "    breaks = np.linspace(np.min(data), np.max(data), bins)\n",
    "    counts = {}\n",
    "    for i in range(len(breaks) - 1):\n",
    "        left, right = breaks[i], breaks[i+1]\n",
    "        label = f\"({left:.2f}, {right:.2f}]\"\n",
    "        count = 0\n",
    "        for val in data:\n",
    "            if val > left and val <= right:\n",
    "                count += 1\n",
    "        counts.update({label: count})\n",
    "    print(counts)\n",
    "    pd.cut(pd.Series(data), bins=breaks, precision=2).value_counts()\n",
    "    fig, ax = plt.subplots(figsize=(10, 7))\n",
    "    ax.hist(data, bins=10, rwidth=0.85)\n",
    "    ax.set_xlabel('Affinity Energy')\n",
    "    ax.set_title(\"ML Prediction Results\")\n"
   ]
  },
  {
   "cell_type": "code",
   "execution_count": null,
   "id": "e566bf5c",
   "metadata": {},
   "outputs": [],
   "source": [
    "make_fig_1(ML_output)"
   ]
  },
  {
   "cell_type": "code",
   "execution_count": null,
   "id": "3f37a82d",
   "metadata": {},
   "outputs": [],
   "source": [
    "dataset_QML = pd.read_csv(\"/Users/junjiehu/Desktop/Tau_QSAAE.csv\")"
   ]
  },
  {
   "cell_type": "code",
   "execution_count": null,
   "id": "9d41bc9b",
   "metadata": {},
   "outputs": [],
   "source": [
    "QML_output = output_value_from_datesets(dataset_QML)"
   ]
  },
  {
   "cell_type": "code",
   "execution_count": null,
   "id": "b0440057",
   "metadata": {},
   "outputs": [],
   "source": [
    "make_fig_1(QML_output)"
   ]
  },
  {
   "cell_type": "code",
   "execution_count": null,
   "id": "00d65d58",
   "metadata": {},
   "outputs": [],
   "source": [
    "dataset_template=pd.read_csv(\"/Users/junjiehu/Desktop/Tau_template.csv\")"
   ]
  },
  {
   "cell_type": "code",
   "execution_count": null,
   "id": "c0ac6ace",
   "metadata": {},
   "outputs": [],
   "source": [
    "template_output=output_value_from_datesets(dataset_template)"
   ]
  },
  {
   "cell_type": "code",
   "execution_count": null,
   "id": "c58614d6",
   "metadata": {},
   "outputs": [],
   "source": [
    "make_fig_1(template_output)"
   ]
  },
  {
   "cell_type": "code",
   "execution_count": null,
   "id": "b5010223",
   "metadata": {},
   "outputs": [],
   "source": []
  },
  {
   "cell_type": "code",
   "execution_count": null,
   "id": "1e39fd9f",
   "metadata": {},
   "outputs": [],
   "source": []
  },
  {
   "cell_type": "code",
   "execution_count": null,
   "id": "3b533925",
   "metadata": {},
   "outputs": [],
   "source": [
    "from rdkit import Chem"
   ]
  },
  {
   "cell_type": "code",
   "execution_count": null,
   "id": "dae4bf4d",
   "metadata": {},
   "outputs": [],
   "source": [
    "def output_value_from_datesets_with_mol(datasets):\n",
    "    predict_val = []\n",
    "    for i in range(len(datasets)):\n",
    "        data = datasets.iloc[i,]\n",
    "        #print(data)\n",
    "        mol_data = Chem.MolFromSmiles(data['smiles'])\n",
    "        if mol_data == None:\n",
    "            \n",
    "            predict_val.append([0])\n",
    "        else:\n",
    "            dta = modelDTA(data)\n",
    "            predict_val.append(dta.data.numpy())\n",
    "       \n",
    "    predict_val = np.asarray(predict_val)\n",
    "    \n",
    "    predict_val_fig = []\n",
    "    for i in range(len(predict_val)):\n",
    "        predict_val_fig.append(predict_val[i][0])\n",
    "        \n",
    "    return predict_val_fig"
   ]
  },
  {
   "cell_type": "code",
   "execution_count": null,
   "id": "c6d71429",
   "metadata": {},
   "outputs": [],
   "source": [
    "ML_output_mol = output_value_from_datesets_with_mol(dataset_ML)\n",
    "QML_output_mol = output_value_from_datesets_with_mol(dataset_QML)\n",
    "temp_output_mol = output_value_from_datesets_with_mol(dataset_template)"
   ]
  },
  {
   "cell_type": "code",
   "execution_count": null,
   "id": "8d64d42e",
   "metadata": {},
   "outputs": [],
   "source": [
    "np.asarray(ML_output_mol) - np.asarray(temp_output_mol)"
   ]
  },
  {
   "cell_type": "code",
   "execution_count": null,
   "id": "e3d44448",
   "metadata": {},
   "outputs": [],
   "source": [
    "out_ML = []\n",
    "ML_m = np.asarray(ML_output_mol)\n",
    "temp_m = np.asarray(temp_output_mol)\n",
    "for i in range(len(ML_m)):\n",
    "    if ML_m[i] == 0:\n",
    "        out_ML.append(0)\n",
    "    else:\n",
    "        out_ML.append(ML_m[i] - temp_m[i])"
   ]
  },
  {
   "cell_type": "code",
   "execution_count": null,
   "id": "78e3eb49",
   "metadata": {},
   "outputs": [],
   "source": [
    "out_ML"
   ]
  },
  {
   "cell_type": "code",
   "execution_count": null,
   "id": "b01d7a3d",
   "metadata": {},
   "outputs": [],
   "source": [
    "out_QML = []\n",
    "QML_m = np.asarray(QML_output_mol)\n",
    "temp_m = np.asarray(temp_output_mol)\n",
    "for i in range(len(QML_m)):\n",
    "    if ML_m[i] == 0:\n",
    "        out_QML.append(0)\n",
    "    else:\n",
    "        out_QML.append(QML_m[i] - temp_m[i])"
   ]
  },
  {
   "cell_type": "code",
   "execution_count": null,
   "id": "5404f2cf",
   "metadata": {},
   "outputs": [],
   "source": [
    "out_QML"
   ]
  },
  {
   "cell_type": "code",
   "execution_count": null,
   "id": "890b9d62",
   "metadata": {},
   "outputs": [],
   "source": [
    "len(dataset_ML)"
   ]
  },
  {
   "cell_type": "code",
   "execution_count": null,
   "id": "4e055317",
   "metadata": {},
   "outputs": [],
   "source": [
    "mml=np.asarray(mml)\n",
    "mml.sum()"
   ]
  },
  {
   "cell_type": "code",
   "execution_count": null,
   "id": "cc192ead",
   "metadata": {},
   "outputs": [],
   "source": [
    "qmml=[]\n",
    "for i in range(len(dataset_QML)):\n",
    "    data_ML = dataset_QML.iloc[i,]\n",
    "    mol_data = Chem.MolFromSmiles(data_ML['smiles'])\n",
    "    if mol_data ==None:\n",
    "        qmml.append([0])\n",
    "    else:\n",
    "        qmml.append([1])"
   ]
  },
  {
   "cell_type": "code",
   "execution_count": null,
   "id": "5651c307",
   "metadata": {},
   "outputs": [],
   "source": [
    "qmml=np.asarray(qmml)\n",
    "qmml.sum()"
   ]
  },
  {
   "cell_type": "code",
   "execution_count": null,
   "id": "348c7792",
   "metadata": {},
   "outputs": [],
   "source": [
    "len(dataset_ML)"
   ]
  },
  {
   "cell_type": "code",
   "execution_count": null,
   "id": "0d64886e",
   "metadata": {},
   "outputs": [],
   "source": []
  },
  {
   "cell_type": "code",
   "execution_count": null,
   "id": "c09649df",
   "metadata": {},
   "outputs": [],
   "source": []
  },
  {
   "cell_type": "code",
   "execution_count": null,
   "id": "3b336cc4",
   "metadata": {},
   "outputs": [],
   "source": []
  },
  {
   "cell_type": "markdown",
   "id": "12e915fb",
   "metadata": {},
   "source": [
    "## 统计"
   ]
  },
  {
   "cell_type": "code",
   "execution_count": null,
   "id": "ea06d16e",
   "metadata": {},
   "outputs": [],
   "source": [
    "max_value = np.max(ML_output )\n",
    "max_index = np.argmax(ML_output)\n",
    "print(max_value)\n",
    "print(max_index)"
   ]
  },
  {
   "cell_type": "code",
   "execution_count": null,
   "id": "93a2922d",
   "metadata": {},
   "outputs": [],
   "source": [
    "print(np.mean(ML_output))"
   ]
  },
  {
   "cell_type": "code",
   "execution_count": null,
   "id": "5b4dfc5a",
   "metadata": {},
   "outputs": [],
   "source": [
    "print(np.mean(ML_output_mol))"
   ]
  },
  {
   "cell_type": "code",
   "execution_count": null,
   "id": "2ef35f36",
   "metadata": {},
   "outputs": [],
   "source": [
    "max_value = np.max(ML_output_mol )\n",
    "max_index = np.argmax(ML_output_mol)\n",
    "print(max_value)\n",
    "print(max_index)"
   ]
  },
  {
   "cell_type": "code",
   "execution_count": null,
   "id": "3ddad339",
   "metadata": {},
   "outputs": [],
   "source": [
    "max_value = np.max(template_output )\n",
    "max_index = np.argmax(template_output)\n",
    "print(max_value)\n",
    "print(max_index)"
   ]
  },
  {
   "cell_type": "code",
   "execution_count": null,
   "id": "b80c7763",
   "metadata": {},
   "outputs": [],
   "source": [
    "print(np.mean(template_output))"
   ]
  },
  {
   "cell_type": "code",
   "execution_count": null,
   "id": "ce0bc8a0",
   "metadata": {},
   "outputs": [],
   "source": [
    "print(np.mean(temp_output_mol))"
   ]
  },
  {
   "cell_type": "code",
   "execution_count": null,
   "id": "0bba6090",
   "metadata": {},
   "outputs": [],
   "source": [
    "max_value = np.max(QML_output )\n",
    "max_index = np.argmax(QML_output)\n",
    "print(max_value)\n",
    "print(max_index)"
   ]
  },
  {
   "cell_type": "code",
   "execution_count": null,
   "id": "2ec5b0b3",
   "metadata": {},
   "outputs": [],
   "source": [
    "print(np.mean(QML_output_mol))"
   ]
  },
  {
   "cell_type": "code",
   "execution_count": null,
   "id": "ad203372",
   "metadata": {},
   "outputs": [],
   "source": [
    "print(np.mean(QML_output))"
   ]
  },
  {
   "cell_type": "code",
   "execution_count": null,
   "id": "77b56def",
   "metadata": {},
   "outputs": [],
   "source": [
    "max_value = np.max(QML_output_mol)\n",
    "max_index = np.argmax(QML_output_mol)\n",
    "print(max_value)\n",
    "print(max_index)"
   ]
  },
  {
   "cell_type": "code",
   "execution_count": null,
   "id": "8fcd58d5",
   "metadata": {},
   "outputs": [],
   "source": [
    "np.asarray(ML_output) -np.asarray(QML_output)"
   ]
  },
  {
   "cell_type": "code",
   "execution_count": null,
   "id": "27d2d72e",
   "metadata": {},
   "outputs": [],
   "source": [
    "arr = np.asarray(ML_output) -np.asarray(QML_output)\n",
    "positive_indices = np.where(arr > 0)\n",
    "\n",
    "# 计算大于零的元素的数量\n",
    "count_positive = len(positive_indices[0])\n",
    "\n",
    "print(\"大于零的元素数量：\", count_positive)\n",
    "print(\"大于零的元素索引：\", positive_indices)"
   ]
  },
  {
   "cell_type": "code",
   "execution_count": null,
   "id": "f8799d4d",
   "metadata": {},
   "outputs": [],
   "source": [
    "len(ML_output)"
   ]
  },
  {
   "cell_type": "code",
   "execution_count": null,
   "id": "26679acd",
   "metadata": {},
   "outputs": [],
   "source": [
    "240/479"
   ]
  },
  {
   "cell_type": "code",
   "execution_count": null,
   "id": "d5ee8a38",
   "metadata": {},
   "outputs": [],
   "source": [
    "arr_mol = np.asarray(ML_output_mol) -np.asarray(QML_output_mol)\n",
    "positive_indices = np.where(arr_mol > 0)\n",
    "\n",
    "# 计算大于零的元素的数量\n",
    "count_positive = len(positive_indices[0])\n",
    "\n",
    "print(\"大于零的元素数量：\", count_positive)\n",
    "print(\"大于零的元素索引：\", positive_indices)"
   ]
  },
  {
   "cell_type": "code",
   "execution_count": null,
   "id": "38051af0",
   "metadata": {},
   "outputs": [],
   "source": [
    "191/479"
   ]
  },
  {
   "cell_type": "code",
   "execution_count": null,
   "id": "e89925f4",
   "metadata": {},
   "outputs": [],
   "source": [
    "arr1 = np.asarray(ML_output) -np.asarray(template_output)\n",
    "positive_indices_1 = np.where(arr1 > 0)\n",
    "\n",
    "# 计算大于零的元素的数量\n",
    "count_positive = len(positive_indices_1[0])\n",
    "\n",
    "print(\"大于零的元素数量：\", count_positive)\n",
    "print(\"大于零的元素索引：\", positive_indices_1)"
   ]
  },
  {
   "cell_type": "code",
   "execution_count": null,
   "id": "e70c3492",
   "metadata": {},
   "outputs": [],
   "source": [
    "arr1_mol = np.asarray(ML_output_mol) -np.asarray(temp_output_mol)\n",
    "positive_indices_1 = np.where(arr1_mol > 0)\n",
    "\n",
    "# 计算大于零的元素的数量\n",
    "count_positive = len(positive_indices_1[0])\n",
    "\n",
    "print(\"大于零的元素数量：\", count_positive)\n",
    "print(\"大于零的元素索引：\", positive_indices_1)"
   ]
  },
  {
   "cell_type": "code",
   "execution_count": null,
   "id": "eff3ab16",
   "metadata": {},
   "outputs": [],
   "source": [
    "arr2 = np.asarray(QML_output) -np.asarray(template_output)\n",
    "positive_indices_2 = np.where(arr2 > 0)\n",
    "\n",
    "# 计算大于零的元素的数量\n",
    "count_positive = len(positive_indices[0])\n",
    "\n",
    "print(\"大于零的元素数量：\", count_positive)\n",
    "print(\"大于零的元素索引：\", positive_indices_2)"
   ]
  },
  {
   "cell_type": "code",
   "execution_count": null,
   "id": "be5964b2",
   "metadata": {},
   "outputs": [],
   "source": [
    "arr2_mol = np.asarray(QML_output_mol) -np.asarray(temp_output_mol)\n",
    "positive_indices_2 = np.where(arr2_mol > 0)\n",
    "\n",
    "# 计算大于零的元素的数量\n",
    "count_positive = len(positive_indices[0])\n",
    "\n",
    "print(\"大于零的元素数量：\", count_positive)\n",
    "print(\"大于零的元素索引：\", positive_indices_2)"
   ]
  },
  {
   "cell_type": "code",
   "execution_count": null,
   "id": "9567c259",
   "metadata": {},
   "outputs": [],
   "source": [
    "arr[472]"
   ]
  },
  {
   "cell_type": "code",
   "execution_count": null,
   "id": "a0a7d335",
   "metadata": {},
   "outputs": [],
   "source": [
    "common_values = np.intersect1d(np.asarray(positive_indices_1), np.asarray(positive_indices_2))"
   ]
  },
  {
   "cell_type": "code",
   "execution_count": null,
   "id": "e3f2edb4",
   "metadata": {},
   "outputs": [],
   "source": [
    "common_values"
   ]
  },
  {
   "cell_type": "code",
   "execution_count": null,
   "id": "1ea81759",
   "metadata": {},
   "outputs": [],
   "source": [
    "len(common_values)"
   ]
  },
  {
   "cell_type": "code",
   "execution_count": null,
   "id": "1b9eebe1",
   "metadata": {},
   "outputs": [],
   "source": [
    "max_value = np.max(arr1)\n",
    "max_index = np.argmax(arr1)\n",
    "print(max_value)\n",
    "print(max_index)"
   ]
  },
  {
   "cell_type": "code",
   "execution_count": null,
   "id": "53064ce0",
   "metadata": {},
   "outputs": [],
   "source": [
    "max_value = np.max(arr2)\n",
    "max_index = np.argmax(arr2)\n",
    "print(max_value)\n",
    "print(max_index)"
   ]
  },
  {
   "cell_type": "code",
   "execution_count": null,
   "id": "dff71f87",
   "metadata": {},
   "outputs": [],
   "source": [
    "arr1[270]"
   ]
  },
  {
   "cell_type": "code",
   "execution_count": null,
   "id": "f33f3bcb",
   "metadata": {},
   "outputs": [],
   "source": [
    "sorted_indices = np.argsort(-arr1)\n",
    "\n",
    "# 提取前N个最大值的索引\n",
    "N = 3\n",
    "top_indices = sorted_indices[:N]\n",
    "\n",
    "# 使用索引提取最大的N个值和它们的索引\n",
    "top_values = arr1[top_indices]"
   ]
  },
  {
   "cell_type": "code",
   "execution_count": null,
   "id": "a4227200",
   "metadata": {},
   "outputs": [],
   "source": [
    "print(\"最大的{}个值：\".format(N))\n",
    "print(top_values)\n",
    "\n",
    "print(\"它们的索引：\")\n",
    "print(top_indices)"
   ]
  },
  {
   "cell_type": "code",
   "execution_count": null,
   "id": "b13419e5",
   "metadata": {},
   "outputs": [],
   "source": [
    "dataset_ML.iloc[28,]"
   ]
  },
  {
   "cell_type": "code",
   "execution_count": null,
   "id": "97085207",
   "metadata": {},
   "outputs": [],
   "source": [
    "dataset_ML.iloc[409,]"
   ]
  },
  {
   "cell_type": "code",
   "execution_count": null,
   "id": "26c1c937",
   "metadata": {},
   "outputs": [],
   "source": [
    "dataset_ML.iloc[101,]"
   ]
  },
  {
   "cell_type": "code",
   "execution_count": null,
   "id": "cd201276",
   "metadata": {},
   "outputs": [],
   "source": [
    "dataset_QML.iloc[28,]"
   ]
  },
  {
   "cell_type": "code",
   "execution_count": null,
   "id": "ada1a7ba",
   "metadata": {},
   "outputs": [],
   "source": [
    "dataset_QML.iloc[409,]"
   ]
  },
  {
   "cell_type": "code",
   "execution_count": null,
   "id": "a4094bc8",
   "metadata": {},
   "outputs": [],
   "source": [
    "dataset_QML.iloc[101,]"
   ]
  },
  {
   "cell_type": "code",
   "execution_count": null,
   "id": "e798086b",
   "metadata": {},
   "outputs": [],
   "source": [
    "dataset_template.iloc[28,]"
   ]
  },
  {
   "cell_type": "code",
   "execution_count": null,
   "id": "66dd752e",
   "metadata": {},
   "outputs": [],
   "source": [
    "dataset_template.iloc[409,]"
   ]
  },
  {
   "cell_type": "code",
   "execution_count": null,
   "id": "0e4a0d42",
   "metadata": {},
   "outputs": [],
   "source": [
    "dataset_template.iloc[101,]"
   ]
  },
  {
   "cell_type": "code",
   "execution_count": null,
   "id": "29e29f3c",
   "metadata": {},
   "outputs": [],
   "source": [
    "sorted_indices = np.argsort(-arr2)\n",
    "\n",
    "# 提取前N个最大值的索引\n",
    "N = 3\n",
    "top_indices = sorted_indices[:N]\n",
    "\n",
    "# 使用索引提取最大的N个值和它们的索引\n",
    "top_values = arr2[top_indices]"
   ]
  },
  {
   "cell_type": "code",
   "execution_count": null,
   "id": "bce5b429",
   "metadata": {},
   "outputs": [],
   "source": [
    "print(\"最大的{}个值：\".format(N))\n",
    "print(top_values)\n",
    "\n",
    "print(\"它们的索引：\")\n",
    "print(top_indices)"
   ]
  },
  {
   "cell_type": "code",
   "execution_count": null,
   "id": "5898fe95",
   "metadata": {},
   "outputs": [],
   "source": [
    "sorted_indices = np.argsort(-arr2_mol)\n",
    "\n",
    "# 提取前N个最大值的索引\n",
    "N = 3\n",
    "top_indices = sorted_indices[:N]\n",
    "\n",
    "# 使用索引提取最大的N个值和它们的索引\n",
    "top_values = arr2_mol[top_indices]"
   ]
  },
  {
   "cell_type": "code",
   "execution_count": null,
   "id": "5caf56b0",
   "metadata": {},
   "outputs": [],
   "source": [
    "print(\"最大的{}个值：\".format(N))\n",
    "print(top_values)\n",
    "\n",
    "print(\"它们的索引：\")\n",
    "print(top_indices)"
   ]
  },
  {
   "cell_type": "code",
   "execution_count": null,
   "id": "6942f76d",
   "metadata": {},
   "outputs": [],
   "source": [
    "sorted_indices = np.argsort(-arr1_mol)\n",
    "\n",
    "# 提取前N个最大值的索引\n",
    "N = 3\n",
    "top_indices = sorted_indices[:N]\n",
    "\n",
    "# 使用索引提取最大的N个值和它们的索引\n",
    "top_values = arr1_mol[top_indices]"
   ]
  },
  {
   "cell_type": "code",
   "execution_count": null,
   "id": "dc5bf78a",
   "metadata": {},
   "outputs": [],
   "source": [
    "print(\"最大的{}个值：\".format(N))\n",
    "print(top_values)\n",
    "\n",
    "print(\"它们的索引：\")\n",
    "print(top_indices)"
   ]
  },
  {
   "cell_type": "code",
   "execution_count": null,
   "id": "9fb06401",
   "metadata": {},
   "outputs": [],
   "source": [
    "dataset_ML.iloc[270,]"
   ]
  },
  {
   "cell_type": "code",
   "execution_count": null,
   "id": "aafe4982",
   "metadata": {},
   "outputs": [],
   "source": [
    "dataset_QML.iloc[270,]"
   ]
  },
  {
   "cell_type": "code",
   "execution_count": null,
   "id": "01023a32",
   "metadata": {},
   "outputs": [],
   "source": [
    "dataset_template.iloc[270,]"
   ]
  },
  {
   "cell_type": "code",
   "execution_count": null,
   "id": "44589ec2",
   "metadata": {},
   "outputs": [],
   "source": [
    "dataset_ML.iloc[32,]"
   ]
  },
  {
   "cell_type": "code",
   "execution_count": null,
   "id": "7c467abc",
   "metadata": {},
   "outputs": [],
   "source": [
    "dataset_QML.iloc[32,]"
   ]
  },
  {
   "cell_type": "code",
   "execution_count": null,
   "id": "0f2e363e",
   "metadata": {},
   "outputs": [],
   "source": [
    "dataset_template.iloc[32,]"
   ]
  },
  {
   "cell_type": "code",
   "execution_count": null,
   "id": "5fcf2a25",
   "metadata": {},
   "outputs": [],
   "source": [
    "dataset_ML.iloc[99,]"
   ]
  },
  {
   "cell_type": "code",
   "execution_count": null,
   "id": "167362e4",
   "metadata": {},
   "outputs": [],
   "source": [
    "dataset_QML.iloc[99,]"
   ]
  },
  {
   "cell_type": "code",
   "execution_count": null,
   "id": "1cc0b476",
   "metadata": {},
   "outputs": [],
   "source": [
    "dataset_template.iloc[99,]"
   ]
  },
  {
   "cell_type": "code",
   "execution_count": null,
   "id": "9176915e",
   "metadata": {},
   "outputs": [],
   "source": []
  },
  {
   "cell_type": "code",
   "execution_count": null,
   "id": "874d3c68",
   "metadata": {},
   "outputs": [],
   "source": []
  },
  {
   "cell_type": "code",
   "execution_count": null,
   "id": "9faf4103",
   "metadata": {},
   "outputs": [],
   "source": [
    "barr = np.asarray(QML_output)"
   ]
  },
  {
   "cell_type": "code",
   "execution_count": null,
   "id": "f4316c0d",
   "metadata": {},
   "outputs": [],
   "source": [
    "sorted_indices = np.argsort(-barr)\n",
    "\n",
    "# 提取前N个最大值的索引\n",
    "N = 3\n",
    "top_indices = sorted_indices[:N]\n",
    "\n",
    "# 使用索引提取最大的N个值和它们的索引\n",
    "top_values = barr[top_indices]"
   ]
  },
  {
   "cell_type": "code",
   "execution_count": null,
   "id": "402225fa",
   "metadata": {},
   "outputs": [],
   "source": [
    "print(\"最大的{}个值：\".format(N))\n",
    "print(top_values)\n",
    "\n",
    "print(\"它们的索引：\")\n",
    "print(top_indices)"
   ]
  },
  {
   "cell_type": "code",
   "execution_count": null,
   "id": "e9b795da",
   "metadata": {},
   "outputs": [],
   "source": [
    "dataset_ML.iloc[310]"
   ]
  },
  {
   "cell_type": "code",
   "execution_count": null,
   "id": "7e817f2d",
   "metadata": {},
   "outputs": [],
   "source": [
    "dataset_QML.iloc[310]"
   ]
  },
  {
   "cell_type": "code",
   "execution_count": null,
   "id": "1918e659",
   "metadata": {},
   "outputs": [],
   "source": [
    "dataset_template.iloc[310]"
   ]
  },
  {
   "cell_type": "code",
   "execution_count": null,
   "id": "3f7c0f41",
   "metadata": {},
   "outputs": [],
   "source": [
    "dataset_ML.iloc[453]"
   ]
  },
  {
   "cell_type": "code",
   "execution_count": null,
   "id": "0acc38ce",
   "metadata": {},
   "outputs": [],
   "source": [
    "dataset_QML.iloc[453]"
   ]
  },
  {
   "cell_type": "code",
   "execution_count": null,
   "id": "b93f6ff4",
   "metadata": {},
   "outputs": [],
   "source": [
    "dataset_template.iloc[453]"
   ]
  },
  {
   "cell_type": "code",
   "execution_count": null,
   "id": "547d25d1",
   "metadata": {},
   "outputs": [],
   "source": [
    "dataset_ML.iloc[193]"
   ]
  },
  {
   "cell_type": "code",
   "execution_count": null,
   "id": "854d42cc",
   "metadata": {},
   "outputs": [],
   "source": [
    "dataset_QML.iloc[193]"
   ]
  },
  {
   "cell_type": "code",
   "execution_count": null,
   "id": "dc0532c8",
   "metadata": {},
   "outputs": [],
   "source": [
    "dataset_template.iloc[193]"
   ]
  },
  {
   "cell_type": "code",
   "execution_count": null,
   "id": "50561549",
   "metadata": {},
   "outputs": [],
   "source": [
    "x=dataset_template.iloc[270]\n",
    "print(x['smiles'])"
   ]
  },
  {
   "cell_type": "code",
   "execution_count": null,
   "id": "8bb5738b",
   "metadata": {},
   "outputs": [],
   "source": [
    "x['smiles']"
   ]
  },
  {
   "cell_type": "code",
   "execution_count": null,
   "id": "6bdfcd77",
   "metadata": {},
   "outputs": [],
   "source": []
  }
 ],
 "metadata": {
  "kernelspec": {
   "display_name": "ML",
   "language": "python",
   "name": "ml"
  },
  "language_info": {
   "codemirror_mode": {
    "name": "ipython",
    "version": 3
   },
   "file_extension": ".py",
   "mimetype": "text/x-python",
   "name": "python",
   "nbconvert_exporter": "python",
   "pygments_lexer": "ipython3",
   "version": "3.8.10"
  }
 },
 "nbformat": 4,
 "nbformat_minor": 5
}
