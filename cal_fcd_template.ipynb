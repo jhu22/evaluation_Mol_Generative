{
 "cells": [
  {
   "cell_type": "code",
   "execution_count": 1,
   "id": "d11a0435",
   "metadata": {},
   "outputs": [],
   "source": [
    "import os\n",
    "import numpy as np\n",
    "import pandas as pd\n",
    "import csv"
   ]
  },
  {
   "cell_type": "code",
   "execution_count": 2,
   "id": "8ccd6528",
   "metadata": {},
   "outputs": [],
   "source": [
    "from utils import cal_fcd"
   ]
  },
  {
   "cell_type": "code",
   "execution_count": 3,
   "id": "c1ec7031",
   "metadata": {},
   "outputs": [],
   "source": [
    "from cal_fcd import get_fcd, load_ref_model,canonical_smiles, get_predictions, calculate_frechet_distance"
   ]
  },
  {
   "cell_type": "code",
   "execution_count": 4,
   "id": "91b62549",
   "metadata": {},
   "outputs": [],
   "source": [
    "model = load_ref_model()"
   ]
  },
  {
   "cell_type": "code",
   "execution_count": 5,
   "id": "3e15f6b2",
   "metadata": {},
   "outputs": [],
   "source": [
    "def get_Smiles(filename):\n",
    "    data_mol = []\n",
    "    with open(filename) as csvfile:\n",
    "        csv_reader = csv.reader(csvfile)\n",
    "        for row in csv_reader:\n",
    "            data_mol.append(row[0])\n",
    "    return data_mol"
   ]
  },
  {
   "cell_type": "code",
   "execution_count": 6,
   "id": "9a97af41",
   "metadata": {},
   "outputs": [],
   "source": [
    "mol_Tau = get_Smiles('/Users/junjiehu/Desktop/Tau-SAAE.csv')"
   ]
  },
  {
   "cell_type": "code",
   "execution_count": 7,
   "id": "09968579",
   "metadata": {},
   "outputs": [
    {
     "name": "stderr",
     "output_type": "stream",
     "text": [
      "[11:01:25] non-ring atom 0 marked aromatic\n",
      "[11:01:25] SMILES Parse Error: syntax error while parsing: (\n",
      "[11:01:25] SMILES Parse Error: Failed parsing SMILES '(' for input: '('\n",
      "[11:01:25] SMILES Parse Error: syntax error while parsing: r\n",
      "[11:01:25] SMILES Parse Error: Failed parsing SMILES 'r' for input: 'r'\n",
      "[11:01:25] SMILES Parse Error: syntax error while parsing: )\n",
      "[11:01:25] SMILES Parse Error: Failed parsing SMILES ')' for input: ')'\n",
      "[11:01:25] non-ring atom 0 marked aromatic\n",
      "[11:01:25] non-ring atom 0 marked aromatic\n",
      "[11:01:25] SMILES Parse Error: syntax error while parsing: 2\n",
      "[11:01:25] SMILES Parse Error: Failed parsing SMILES '2' for input: '2'\n",
      "[11:01:25] SMILES Parse Error: syntax error while parsing: )\n",
      "[11:01:25] SMILES Parse Error: Failed parsing SMILES ')' for input: ')'\n",
      "[11:01:25] non-ring atom 0 marked aromatic\n",
      "[11:01:25] non-ring atom 0 marked aromatic\n",
      "[11:01:25] SMILES Parse Error: syntax error while parsing: 1\n",
      "[11:01:25] SMILES Parse Error: Failed parsing SMILES '1' for input: '1'\n",
      "[11:01:26] SMILES Parse Error: syntax error while parsing: (\n",
      "[11:01:26] SMILES Parse Error: Failed parsing SMILES '(' for input: '('\n",
      "[11:01:26] SMILES Parse Error: syntax error while parsing: =\n",
      "[11:01:26] SMILES Parse Error: Failed parsing SMILES '=' for input: '='\n",
      "[11:01:26] non-ring atom 0 marked aromatic\n",
      "[11:01:26] SMILES Parse Error: syntax error while parsing: =\n",
      "[11:01:26] SMILES Parse Error: Failed parsing SMILES '=' for input: '='\n",
      "[11:01:26] SMILES Parse Error: syntax error while parsing: 1\n",
      "[11:01:26] SMILES Parse Error: Failed parsing SMILES '1' for input: '1'\n",
      "[11:01:26] SMILES Parse Error: syntax error while parsing: )\n",
      "[11:01:26] SMILES Parse Error: Failed parsing SMILES ')' for input: ')'\n",
      "[11:01:26] SMILES Parse Error: syntax error while parsing: 1\n",
      "[11:01:26] SMILES Parse Error: Failed parsing SMILES '1' for input: '1'\n",
      "[11:01:26] SMILES Parse Error: syntax error while parsing: -\n",
      "[11:01:26] SMILES Parse Error: Failed parsing SMILES '-' for input: '-'\n",
      "[11:01:26] SMILES Parse Error: syntax error while parsing: )\n",
      "[11:01:26] SMILES Parse Error: Failed parsing SMILES ')' for input: ')'\n",
      "[11:01:26] non-ring atom 0 marked aromatic\n",
      "[11:01:26] non-ring atom 0 marked aromatic\n",
      "[11:01:26] SMILES Parse Error: syntax error while parsing: (\n",
      "[11:01:26] SMILES Parse Error: Failed parsing SMILES '(' for input: '('\n",
      "[11:01:26] SMILES Parse Error: syntax error while parsing: 2\n",
      "[11:01:26] SMILES Parse Error: Failed parsing SMILES '2' for input: '2'\n",
      "[11:01:26] SMILES Parse Error: syntax error while parsing: 1\n",
      "[11:01:26] SMILES Parse Error: Failed parsing SMILES '1' for input: '1'\n",
      "[11:01:26] SMILES Parse Error: syntax error while parsing: (\n",
      "[11:01:26] SMILES Parse Error: Failed parsing SMILES '(' for input: '('\n",
      "[11:01:26] non-ring atom 0 marked aromatic\n",
      "[11:01:26] non-ring atom 0 marked aromatic\n",
      "[11:01:26] non-ring atom 0 marked aromatic\n",
      "[11:01:26] non-ring atom 0 marked aromatic\n"
     ]
    }
   ],
   "source": [
    "base = mol_Tau[1]\n",
    "can_sample_base = [w for w in canonical_smiles(base) if w is not None]"
   ]
  },
  {
   "cell_type": "code",
   "execution_count": null,
   "id": "38003c88",
   "metadata": {},
   "outputs": [],
   "source": [
    "fcd_tensor_ = []\n",
    "for item_y in range(len(mol_Tau)-1):\n",
    "    base_ = mol_Tau[item_y+1]\n",
    "    base_sample_ = [w for w in canonical_smiles(base_) if w is not None]\n",
    "    fcd_ = []\n",
    "    for item_x in range(len(mol_Tau)-1):\n",
    "        mm_ = mol_Tau[item+1]\n",
    "        can_sample_ = [w for w in canonical_smiles(mm_) if w is not None]\n",
    "        fcd_score = get_fcd(can_sample_base,can_sample_, model)\n",
    "        fcd_.append(fcd_score)\n",
    "    fcd_tensor_.append(fcd_)\n",
    "fcd_tensor_ = np.asarray(fcd_tensor_)"
   ]
  },
  {
   "cell_type": "code",
   "execution_count": null,
   "id": "1e11321e",
   "metadata": {},
   "outputs": [],
   "source": [
    "np.save('./results/fcd_SAAE.npy', fcd_tensor_)"
   ]
  },
  {
   "cell_type": "code",
   "execution_count": null,
   "id": "ff01bfe6",
   "metadata": {},
   "outputs": [],
   "source": []
  }
 ],
 "metadata": {
  "kernelspec": {
   "display_name": "ML",
   "language": "python",
   "name": "ml"
  },
  "language_info": {
   "codemirror_mode": {
    "name": "ipython",
    "version": 3
   },
   "file_extension": ".py",
   "mimetype": "text/x-python",
   "name": "python",
   "nbconvert_exporter": "python",
   "pygments_lexer": "ipython3",
   "version": "3.8.10"
  }
 },
 "nbformat": 4,
 "nbformat_minor": 5
}
